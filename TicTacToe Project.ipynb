{
 "cells": [
  {
   "cell_type": "markdown",
   "id": "8b6274cd-431e-4a48-adb6-060246479833",
   "metadata": {},
   "source": [
    "<span style = \" font-size: 35px;\"> **Tic Tac Toe Machine Learning Project**.</span>  \n",
    "<span style = \" font-size: 28px;\"> **Introduction**.</span>  \n",
    "\n",
    "\n",
    "This project enhances tic-tac-toe game by using machine learning techniques. It initially trains a decision tree classifier on game data to predict winners. Then, a Random Forest Classifier model is developed for improved prediction. Comparisons between the two models assess accuracy and evaluation metrics to determine performance."
   ]
  },
  {
   "cell_type": "code",
   "execution_count": null,
   "id": "421f18d8-754f-4b84-89a2-c023d0a41f7a",
   "metadata": {},
   "outputs": [],
   "source": []
  },
  {
   "cell_type": "markdown",
   "id": "c4714b11-1d7c-471e-9145-d58ed9279edd",
   "metadata": {},
   "source": [
    "<span style = \" font-size: 30px;\"> **Decision Tree**.</span> "
   ]
  },
  {
   "cell_type": "code",
   "execution_count": 10,
   "id": "555c7f06-d83a-4d4d-a849-50585ecf9ad1",
   "metadata": {},
   "outputs": [],
   "source": [
    "#importing necessary libraries\n",
    "import pandas as pd\n",
    "from sklearn.model_selection import train_test_split \n",
    "from sklearn.tree import DecisionTreeClassifier\n",
    "from sklearn.metrics import confusion_matrix,classification_report, accuracy_score\n",
    "from sklearn.preprocessing import LabelEncoder"
   ]
  },
  {
   "cell_type": "code",
   "execution_count": 11,
   "id": "4d9b524f-a63d-462f-951e-cc5ebbaeeec9",
   "metadata": {},
   "outputs": [
    {
     "name": "stdout",
     "output_type": "stream",
     "text": [
      "  V1 V2 V3 V4 V5 V6 V7 V8 V9       V10\n",
      "0  x  x  x  x  o  o  x  o  o  positive\n",
      "1  x  x  x  x  o  o  o  x  o  positive\n",
      "2  x  x  x  x  o  o  o  o  x  positive\n",
      "3  x  x  x  x  o  o  o  b  b  positive\n",
      "4  x  x  x  x  o  o  b  o  b  positive\n"
     ]
    }
   ],
   "source": [
    " #Load dataset\n",
    "filepath = 'tic-tac-toe-endgame.csv'\n",
    "data = pd.read_csv(filepath)  \n",
    "print(data.head())"
   ]
  },
  {
   "cell_type": "markdown",
   "id": "f357dfd6-d130-483c-94cc-c1b8a3707177",
   "metadata": {},
   "source": [
    "__Lable Encoding__"
   ]
  },
  {
   "cell_type": "code",
   "execution_count": 12,
   "id": "50c60f3c-5fe7-4f0c-a68e-247b3149b180",
   "metadata": {},
   "outputs": [
    {
     "name": "stdout",
     "output_type": "stream",
     "text": [
      "   V1  V2  V3  V4  V5  V6  V7  V8  V9  V10\n",
      "0   2   2   2   2   1   1   2   1   1    1\n",
      "1   2   2   2   2   1   1   1   2   1    1\n",
      "2   2   2   2   2   1   1   1   1   2    1\n",
      "3   2   2   2   2   1   1   1   0   0    1\n",
      "4   2   2   2   2   1   1   0   1   0    1\n"
     ]
    }
   ],
   "source": [
    " #convert label to numeric for this framework\n",
    "le = LabelEncoder()\n",
    "data['V10']= le.fit_transform(data['V10'])\n",
    "data['V1']= le.fit_transform(data['V1'])\n",
    "data['V2']= le.fit_transform(data['V2'])\n",
    "data['V3']= le.fit_transform(data['V3'])\n",
    "data['V4']= le.fit_transform(data['V4'])\n",
    "data['V5']= le.fit_transform(data['V5'])\n",
    "data['V6']= le.fit_transform(data['V6'])\n",
    "data['V7']= le.fit_transform(data['V7'])\n",
    "data['V8']= le.fit_transform(data['V8'])\n",
    "data['V9']= le.fit_transform(data['V9'])\n",
    "print(data.head())"
   ]
  },
  {
   "cell_type": "markdown",
   "id": "8aebecef-fc5e-4a73-9245-f32740836396",
   "metadata": {},
   "source": [
    "__Splitting into Train and Test Data sets__"
   ]
  },
  {
   "cell_type": "code",
   "execution_count": 13,
   "id": "8c0352bd-57b5-4783-a4ec-2ca8f8f7f488",
   "metadata": {},
   "outputs": [
    {
     "name": "stdout",
     "output_type": "stream",
     "text": [
      "(814, 9) : Training data size\n",
      "(144, 9) : Test data size\n"
     ]
    }
   ],
   "source": [
    "#Preprocessing: extract independent-x and dependent-y variables        \n",
    "y_data = data['V10']\n",
    "X_data = data.drop('V10', axis =1)\n",
    "X_train, X_test, y_train, y_test = train_test_split(X_data, y_data, test_size = 0.15, random_state = 0)\n",
    "print(X_train.shape, ': Training data size')\n",
    "print(X_test.shape, ': Test data size') "
   ]
  },
  {
   "cell_type": "markdown",
   "id": "7bfa8a7a-ffb8-46c4-8815-e973fdc01f63",
   "metadata": {},
   "source": [
    "__Training the Decision Tree Model__"
   ]
  },
  {
   "cell_type": "code",
   "execution_count": 14,
   "id": "32085563-ad6e-4c73-ae75-70e99e9241fe",
   "metadata": {},
   "outputs": [],
   "source": [
    "DTclass = DecisionTreeClassifier(criterion='entropy', random_state=0)\n",
    "\n",
    "# Train the Decision Tree Classifier Model\n",
    "DTclass.fit(X_train, y_train) \n",
    "\n",
    "#The predict method is used to make predictions\n",
    "pred_y = DTclass.predict(X_test)"
   ]
  },
  {
   "cell_type": "markdown",
   "id": "aebfd729-a5ff-49e6-9ae0-8c1d23f6d093",
   "metadata": {},
   "source": [
    "__Evaluation of the trained Decision Tree Model__"
   ]
  },
  {
   "cell_type": "code",
   "execution_count": 15,
   "id": "8eb3ebbc-9a9f-45c9-8d76-c3a713db8f38",
   "metadata": {},
   "outputs": [
    {
     "name": "stdout",
     "output_type": "stream",
     "text": [
      "              precision    recall  f1-score   support\n",
      "\n",
      "           0       0.91      0.71      0.80        56\n",
      "           1       0.84      0.95      0.89        88\n",
      "\n",
      "    accuracy                           0.86       144\n",
      "   macro avg       0.87      0.83      0.85       144\n",
      "weighted avg       0.87      0.86      0.86       144\n",
      "\n",
      "Confusion Matrix\n",
      "  [[40 16]\n",
      " [ 4 84]]\n",
      "\n",
      "Accuracy: =  0.861\n"
     ]
    }
   ],
   "source": [
    "C_matrix = confusion_matrix(y_test, pred_y)\n",
    "print(classification_report(y_test, pred_y))\n",
    "\n",
    "print(\"Confusion Matrix\\n \" , C_matrix)\n",
    "\n",
    "print(\"\\nAccuracy: = \", round(accuracy_score(y_test, pred_y),3))"
   ]
  },
  {
   "cell_type": "markdown",
   "id": "54dba76e-27c2-40e2-8aee-94d9ff94a4ab",
   "metadata": {},
   "source": [
    "__Analysing the classification report__"
   ]
  },
  {
   "cell_type": "markdown",
   "id": "47c0a86a-bc6e-4874-b8f0-1d3e5eb2c8a6",
   "metadata": {},
   "source": [
    "Precision: Measures the accuracy of positive predictions.\n",
    "Recall: Measures the ability to identify all positive instances.\n",
    "F1-score: Balances precision and recall.\n",
    "\n",
    "The weighted average calculates the metrics by considering the support for each class, resulting in values of 0.87 for precision, 0.86 for recall, and 0.86 for the F1-score.\n",
    "\n",
    "Overall, the model shows good performance, with higher precision, recall, and F1-score for class 1 compared to class 0, and an accuracy of 0.86."
   ]
  },
  {
   "cell_type": "markdown",
   "id": "f9803143-dcd0-48e5-9ea0-6605385247c3",
   "metadata": {},
   "source": []
  },
  {
   "cell_type": "code",
   "execution_count": null,
   "id": "af5b1198-bffa-4287-93a4-7b55a349226a",
   "metadata": {},
   "outputs": [],
   "source": []
  },
  {
   "cell_type": "markdown",
   "id": "b2cf095b-61ec-4c61-95b3-3859e108ded1",
   "metadata": {},
   "source": [
    "<span style = \" font-size: 30px;\"> **Random Forest**.</span> \n"
   ]
  },
  {
   "cell_type": "code",
   "execution_count": 16,
   "id": "67945efb-a292-45f0-9223-71d617a22ba6",
   "metadata": {},
   "outputs": [],
   "source": [
    "#importing necessary libraries\n",
    "import pandas as pd\n",
    "from sklearn.model_selection import train_test_split \n",
    "from sklearn.ensemble import RandomForestClassifier\n",
    "from sklearn.metrics import confusion_matrix,classification_report, accuracy_score\n",
    "from sklearn.preprocessing import LabelEncoder"
   ]
  },
  {
   "cell_type": "code",
   "execution_count": 17,
   "id": "04756cbd-3fbc-4189-a58a-289696e0a55b",
   "metadata": {},
   "outputs": [
    {
     "name": "stdout",
     "output_type": "stream",
     "text": [
      "  V1 V2 V3 V4 V5 V6 V7 V8 V9       V10\n",
      "0  x  x  x  x  o  o  x  o  o  positive\n",
      "1  x  x  x  x  o  o  o  x  o  positive\n",
      "2  x  x  x  x  o  o  o  o  x  positive\n",
      "3  x  x  x  x  o  o  o  b  b  positive\n",
      "4  x  x  x  x  o  o  b  o  b  positive\n"
     ]
    }
   ],
   "source": [
    " #Load dataset  \n",
    "filepath = 'tic-tac-toe-endgame.csv'\n",
    "data = pd.read_csv(filepath)              \n",
    "print(data.head()) "
   ]
  },
  {
   "cell_type": "markdown",
   "id": "5154d110-7a62-41c3-8a51-3d547349cd18",
   "metadata": {},
   "source": [
    "__Lable Encoding__"
   ]
  },
  {
   "cell_type": "code",
   "execution_count": 18,
   "id": "fab5ba86-6f7b-4d19-be76-f619ebee61f3",
   "metadata": {},
   "outputs": [
    {
     "name": "stdout",
     "output_type": "stream",
     "text": [
      "   V1  V2  V3  V4  V5  V6  V7  V8  V9  V10\n",
      "0   2   2   2   2   1   1   2   1   1    1\n",
      "1   2   2   2   2   1   1   1   2   1    1\n",
      "2   2   2   2   2   1   1   1   1   2    1\n",
      "3   2   2   2   2   1   1   1   0   0    1\n",
      "4   2   2   2   2   1   1   0   1   0    1\n"
     ]
    }
   ],
   "source": [
    " #convert label to numeric for this framework\n",
    "le = LabelEncoder()\n",
    "data['V10']= le.fit_transform(data['V10'])\n",
    "data['V1']= le.fit_transform(data['V1'])\n",
    "data['V2']= le.fit_transform(data['V2'])\n",
    "data['V3']= le.fit_transform(data['V3'])\n",
    "data['V4']= le.fit_transform(data['V4'])\n",
    "data['V5']= le.fit_transform(data['V5'])\n",
    "data['V6']= le.fit_transform(data['V6'])\n",
    "data['V7']= le.fit_transform(data['V7'])\n",
    "data['V8']= le.fit_transform(data['V8'])\n",
    "data['V9']= le.fit_transform(data['V9'])\n",
    "print(data.head())"
   ]
  },
  {
   "cell_type": "markdown",
   "id": "43531b24-c5d1-4267-9511-f8295379b0cd",
   "metadata": {},
   "source": [
    "__Splitting into Train and Test Data sets__"
   ]
  },
  {
   "cell_type": "code",
   "execution_count": 19,
   "id": "63d91260-a905-45f6-8994-53b62ebc514a",
   "metadata": {},
   "outputs": [
    {
     "name": "stdout",
     "output_type": "stream",
     "text": [
      "(814, 9) : Training data size\n",
      "(144, 9) : Test data size\n"
     ]
    }
   ],
   "source": [
    "#Preprocessing: extract independent-x and dependent-y variables        \n",
    "y_data = data['V10']\n",
    "X_data = data.drop('V10', axis =1)\n",
    "X_train, X_test, y_train, y_test = train_test_split(X_data, y_data, test_size = 0.15, random_state = 0)\n",
    "print(X_train.shape, ': Training data size')\n",
    "print(X_test.shape, ': Test data size') "
   ]
  },
  {
   "cell_type": "markdown",
   "id": "f15d4147-a77c-4561-8f99-052ce620b9c3",
   "metadata": {},
   "source": [
    "__Training the Random Forest Model__"
   ]
  },
  {
   "cell_type": "code",
   "execution_count": 20,
   "id": "947f9a6e-d001-417d-b8de-64f3c9c0f7b5",
   "metadata": {},
   "outputs": [],
   "source": [
    "RFclass = RandomForestClassifier(n_estimators=20, bootstrap=True, criterion='entropy', random_state=0)\n",
    "\n",
    "# Train the Random Forest Classifier Model\n",
    "RFclass.fit(X_train, y_train) \n",
    "\n",
    "#The predict method is used to make predictions       \n",
    "pred_y = RFclass.predict(X_test)"
   ]
  },
  {
   "cell_type": "markdown",
   "id": "8384da55-1f9a-460e-8078-b5fb428015d4",
   "metadata": {},
   "source": [
    "__Evaluation of the trained Random Forest Model__"
   ]
  },
  {
   "cell_type": "code",
   "execution_count": 21,
   "id": "d987ffcf-8bf7-44cb-9e45-968a9eb6a01c",
   "metadata": {},
   "outputs": [
    {
     "name": "stdout",
     "output_type": "stream",
     "text": [
      "              precision    recall  f1-score   support\n",
      "\n",
      "           0       1.00      0.91      0.95        56\n",
      "           1       0.95      1.00      0.97        88\n",
      "\n",
      "    accuracy                           0.97       144\n",
      "   macro avg       0.97      0.96      0.96       144\n",
      "weighted avg       0.97      0.97      0.96       144\n",
      "\n",
      "Confusion Matrix: \n",
      " [[51  5]\n",
      " [ 0 88]]\n",
      "\n",
      "Accuracy: =  0.965\n"
     ]
    }
   ],
   "source": [
    "Cmatrix = confusion_matrix(y_test, pred_y)\n",
    "\n",
    "print(classification_report(y_test, pred_y))\n",
    "\n",
    "print('Confusion Matrix: \\n', Cmatrix)\n",
    "\n",
    "print(\"\\nAccuracy: = \", round(accuracy_score(y_test, pred_y),3))"
   ]
  },
  {
   "cell_type": "markdown",
   "id": "2083a0c9-7da3-442f-b1dc-0cb6616bee4b",
   "metadata": {},
   "source": [
    "__Analysing the classification report__"
   ]
  },
  {
   "cell_type": "markdown",
   "id": "f8cd007e-3250-4d7f-b8e8-6bd4c3885897",
   "metadata": {},
   "source": [
    "This classification report indicates that the model achieved high precision, recall, and F1-score for both \n",
    "classes, with 100% precision for class 0, 91% recall for class 0, 95% precision for class 1,\n",
    "and 97% recall for class 1, resulting in an overall accuracy of 97%."
   ]
  },
  {
   "cell_type": "code",
   "execution_count": null,
   "id": "c22132b9-212d-4601-a3e8-efc709cfb420",
   "metadata": {},
   "outputs": [],
   "source": []
  },
  {
   "cell_type": "markdown",
   "id": "8be4ec13-76e0-41e6-bf72-fae4f0552e80",
   "metadata": {},
   "source": [
    "__Summary on the models used__"
   ]
  },
  {
   "cell_type": "markdown",
   "id": "7fea4933-8464-41e3-8976-1fddee6cd1b6",
   "metadata": {},
   "source": [
    "The Random Forest(RF) classifier model outperforms the Decision Tree(DT) classifier model significantly. \n",
    "It achieves higher precision, recall, and F1-score for both classes, with an accuracy of 97%, compared to the DT model's 86%. \n",
    "Additionally, the RF shows better balance between precision and recall, making it the preferred choice"
   ]
  },
  {
   "cell_type": "code",
   "execution_count": null,
   "id": "66260a49-f525-48a9-be16-6e3ad5b17423",
   "metadata": {},
   "outputs": [],
   "source": []
  }
 ],
 "metadata": {
  "kernelspec": {
   "display_name": "Python 3 (ipykernel)",
   "language": "python",
   "name": "python3"
  },
  "language_info": {
   "codemirror_mode": {
    "name": "ipython",
    "version": 3
   },
   "file_extension": ".py",
   "mimetype": "text/x-python",
   "name": "python",
   "nbconvert_exporter": "python",
   "pygments_lexer": "ipython3",
   "version": "3.9.13"
  }
 },
 "nbformat": 4,
 "nbformat_minor": 5
}
